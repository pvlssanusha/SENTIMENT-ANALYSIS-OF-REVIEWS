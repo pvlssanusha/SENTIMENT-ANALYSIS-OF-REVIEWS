{
 "cells": [
  {
   "cell_type": "markdown",
   "id": "da15d322",
   "metadata": {},
   "source": [
    "# Scraping the Reviews and Ratings of a specific product from www.amazon.in and performing sentimental analysis on it to classify it as Positive or Negative Review"
   ]
  },
  {
   "cell_type": "markdown",
   "id": "97e3f7e8",
   "metadata": {},
   "source": [
    "To scrap the data we have a package called \"Selenium\" in Python which is used to automate browser interaction.We also used a Python Library called \"Beautiful Soup\" for pulling data out of html files."
   ]
  },
  {
   "cell_type": "code",
   "execution_count": 37,
   "id": "5dc65b48",
   "metadata": {},
   "outputs": [
    {
     "data": {
      "text/html": [
       "<div>\n",
       "<style scoped>\n",
       "    .dataframe tbody tr th:only-of-type {\n",
       "        vertical-align: middle;\n",
       "    }\n",
       "\n",
       "    .dataframe tbody tr th {\n",
       "        vertical-align: top;\n",
       "    }\n",
       "\n",
       "    .dataframe thead th {\n",
       "        text-align: right;\n",
       "    }\n",
       "</style>\n",
       "<table border=\"1\" class=\"dataframe\">\n",
       "  <thead>\n",
       "    <tr style=\"text-align: right;\">\n",
       "      <th></th>\n",
       "      <th>0</th>\n",
       "      <th>1</th>\n",
       "    </tr>\n",
       "  </thead>\n",
       "  <tbody>\n",
       "    <tr>\n",
       "      <th>0</th>\n",
       "      <td>4.0 out of 5 stars</td>\n",
       "      <td>🔥 Heating issues during use with in 15 minutes...</td>\n",
       "    </tr>\n",
       "    <tr>\n",
       "      <th>1</th>\n",
       "      <td>4.0 out of 5 stars</td>\n",
       "      <td>At price of 8500 this is very goor phoneSoindc...</td>\n",
       "    </tr>\n",
       "    <tr>\n",
       "      <th>2</th>\n",
       "      <td>4.0 out of 5 stars</td>\n",
       "      <td>Charger lead is shortOne tiny point inside the...</td>\n",
       "    </tr>\n",
       "    <tr>\n",
       "      <th>3</th>\n",
       "      <td>4.0 out of 5 stars</td>\n",
       "      <td>Camera not good, little slowRest at best price</td>\n",
       "    </tr>\n",
       "    <tr>\n",
       "      <th>4</th>\n",
       "      <td>3.3 out of 5 stars</td>\n",
       "      <td>best phone under 10,000/-</td>\n",
       "    </tr>\n",
       "    <tr>\n",
       "      <th>5</th>\n",
       "      <td>4.0 out of 5 stars</td>\n",
       "      <td>Color awesomeScreen awesomeProcessing not at P...</td>\n",
       "    </tr>\n",
       "    <tr>\n",
       "      <th>6</th>\n",
       "      <td>4.0 out of 5 stars</td>\n",
       "      <td>This phone is good and got it in very low pric...</td>\n",
       "    </tr>\n",
       "    <tr>\n",
       "      <th>7</th>\n",
       "      <td>4.0 out of 5 stars</td>\n",
       "      <td>Overall very good mobile but camera quality is...</td>\n",
       "    </tr>\n",
       "  </tbody>\n",
       "</table>\n",
       "</div>"
      ],
      "text/plain": [
       "                    0                                                  1\n",
       "0  4.0 out of 5 stars  🔥 Heating issues during use with in 15 minutes...\n",
       "1  4.0 out of 5 stars  At price of 8500 this is very goor phoneSoindc...\n",
       "2  4.0 out of 5 stars  Charger lead is shortOne tiny point inside the...\n",
       "3  4.0 out of 5 stars     Camera not good, little slowRest at best price\n",
       "4  3.3 out of 5 stars                          best phone under 10,000/-\n",
       "5  4.0 out of 5 stars  Color awesomeScreen awesomeProcessing not at P...\n",
       "6  4.0 out of 5 stars  This phone is good and got it in very low pric...\n",
       "7  4.0 out of 5 stars  Overall very good mobile but camera quality is..."
      ]
     },
     "metadata": {},
     "output_type": "display_data"
    }
   ],
   "source": [
    "from selenium import webdriver\n",
    "from time import sleep\n",
    "path = 'C:\\chromedriver.exe'\n",
    "# open the browser\n",
    "browser = webdriver.Chrome(executable_path=path)\n",
    "# load the webpage\n",
    "browser.get('https://www.amazon.in/Samsung-Galaxy-Storage-MediaTek-Battery/dp/B0BMGB2TPR/ref=sr_1_1?crid=449D3903U128&keywords=samsung%2Bj8&qid=1674227056&sprefix=samsung%2Bj8%2Caps%2C256&sr=8-1&th=1')\n",
    "browser.maximize_window()\n",
    "from bs4 import BeautifulSoup\n",
    "soap=BeautifulSoup(browser.page_source,'html.parser')\n",
    "soap\n",
    "list=[]\n",
    "#Find the tag of Rating  in webpage by inspecting the elements\n",
    "#The rating tag found as 'span' with attrs=\"a-icon-alt\" which is a sub tag of 'i' tag \n",
    "for x in soap.find_all('i'):\n",
    "    #now finding the subtag\n",
    "    y=x.find('span',attrs=\"a-icon-alt\")\n",
    "    if y is not None:\n",
    "            if \"out\" in y.text:\n",
    "                list.append(y.text)\n",
    "list\n",
    "list2=[]\n",
    "#Find the tag of Review  in webpage by inspecting the elements\n",
    "#The rating tag found as 'span' which is a sub tag of div' with attrs=\"a-expander-content reviewText review-text-content a-expander-partial-collapse-content\"\n",
    "for x in soap.find_all('div',attrs=\"a-expander-content reviewText review-text-content a-expander-partial-collapse-content\"):\n",
    "    y=x.find('span')\n",
    "    if y is not None:\n",
    "        list2.append(y.text)\n",
    "totallist=[]\n",
    "for i in range(len(list2)):\n",
    "    LIST=[]\n",
    "    LIST.append(list[i])\n",
    "    LIST.append(list2[i])\n",
    "    totallist.append(LIST)\n",
    "data=pd.DataFrame(totallist)\n",
    "display(data)\n",
    "    \n"
   ]
  },
  {
   "cell_type": "code",
   "execution_count": 39,
   "id": "8f830c40",
   "metadata": {},
   "outputs": [],
   "source": [
    "import pandas as pd\n"
   ]
  },
  {
   "cell_type": "code",
   "execution_count": 40,
   "id": "86b4ec69",
   "metadata": {},
   "outputs": [],
   "source": [
    "import nltk\n",
    "import nltk.sentiment.vader as s"
   ]
  },
  {
   "cell_type": "code",
   "execution_count": 41,
   "id": "b3d24576",
   "metadata": {},
   "outputs": [
    {
     "name": "stdout",
     "output_type": "stream",
     "text": [
      "showing info https://raw.githubusercontent.com/nltk/nltk_data/gh-pages/index.xml\n"
     ]
    },
    {
     "data": {
      "text/plain": [
       "True"
      ]
     },
     "execution_count": 41,
     "metadata": {},
     "output_type": "execute_result"
    }
   ],
   "source": [
    "nltk.download()\n"
   ]
  },
  {
   "cell_type": "markdown",
   "id": "16624d47",
   "metadata": {},
   "source": [
    "Displaying the ratings and reviews  together as a dataframe"
   ]
  },
  {
   "cell_type": "code",
   "execution_count": 42,
   "id": "4ececf70",
   "metadata": {},
   "outputs": [
    {
     "data": {
      "text/html": [
       "<div>\n",
       "<style scoped>\n",
       "    .dataframe tbody tr th:only-of-type {\n",
       "        vertical-align: middle;\n",
       "    }\n",
       "\n",
       "    .dataframe tbody tr th {\n",
       "        vertical-align: top;\n",
       "    }\n",
       "\n",
       "    .dataframe thead th {\n",
       "        text-align: right;\n",
       "    }\n",
       "</style>\n",
       "<table border=\"1\" class=\"dataframe\">\n",
       "  <thead>\n",
       "    <tr style=\"text-align: right;\">\n",
       "      <th></th>\n",
       "      <th>0</th>\n",
       "      <th>1</th>\n",
       "    </tr>\n",
       "  </thead>\n",
       "  <tbody>\n",
       "    <tr>\n",
       "      <th>0</th>\n",
       "      <td>4.0 out of 5 stars</td>\n",
       "      <td>🔥 Heating issues during use with in 15 minutes...</td>\n",
       "    </tr>\n",
       "    <tr>\n",
       "      <th>1</th>\n",
       "      <td>4.0 out of 5 stars</td>\n",
       "      <td>At price of 8500 this is very goor phoneSoindc...</td>\n",
       "    </tr>\n",
       "    <tr>\n",
       "      <th>2</th>\n",
       "      <td>4.0 out of 5 stars</td>\n",
       "      <td>Charger lead is shortOne tiny point inside the...</td>\n",
       "    </tr>\n",
       "    <tr>\n",
       "      <th>3</th>\n",
       "      <td>4.0 out of 5 stars</td>\n",
       "      <td>Camera not good, little slowRest at best price</td>\n",
       "    </tr>\n",
       "    <tr>\n",
       "      <th>4</th>\n",
       "      <td>3.3 out of 5 stars</td>\n",
       "      <td>best phone under 10,000/-</td>\n",
       "    </tr>\n",
       "    <tr>\n",
       "      <th>5</th>\n",
       "      <td>4.0 out of 5 stars</td>\n",
       "      <td>Color awesomeScreen awesomeProcessing not at P...</td>\n",
       "    </tr>\n",
       "    <tr>\n",
       "      <th>6</th>\n",
       "      <td>4.0 out of 5 stars</td>\n",
       "      <td>This phone is good and got it in very low pric...</td>\n",
       "    </tr>\n",
       "    <tr>\n",
       "      <th>7</th>\n",
       "      <td>4.0 out of 5 stars</td>\n",
       "      <td>Overall very good mobile but camera quality is...</td>\n",
       "    </tr>\n",
       "  </tbody>\n",
       "</table>\n",
       "</div>"
      ],
      "text/plain": [
       "                    0                                                  1\n",
       "0  4.0 out of 5 stars  🔥 Heating issues during use with in 15 minutes...\n",
       "1  4.0 out of 5 stars  At price of 8500 this is very goor phoneSoindc...\n",
       "2  4.0 out of 5 stars  Charger lead is shortOne tiny point inside the...\n",
       "3  4.0 out of 5 stars     Camera not good, little slowRest at best price\n",
       "4  3.3 out of 5 stars                          best phone under 10,000/-\n",
       "5  4.0 out of 5 stars  Color awesomeScreen awesomeProcessing not at P...\n",
       "6  4.0 out of 5 stars  This phone is good and got it in very low pric...\n",
       "7  4.0 out of 5 stars  Overall very good mobile but camera quality is..."
      ]
     },
     "metadata": {},
     "output_type": "display_data"
    }
   ],
   "source": [
    "Finallist=[]\n",
    "for i in range(len(list2)):\n",
    "    list3=[]\n",
    "    list3.append(list[i])\n",
    "    list3.append(list2[i])\n",
    "    Finallist.append(list3)\n",
    "df1=pd.DataFrame(Finallist)\n",
    "display(df1)"
   ]
  },
  {
   "cell_type": "code",
   "execution_count": 43,
   "id": "1f6214e3",
   "metadata": {},
   "outputs": [
    {
     "name": "stdout",
     "output_type": "stream",
     "text": [
      "0    🔥 Heating issues during use with in 15 minutes...\n",
      "1    At price of 8500 this is very goor phoneSoindc...\n",
      "2    Charger lead is shortOne tiny point inside the...\n",
      "3       Camera not good, little slowRest at best price\n",
      "4                            best phone under 10,000/-\n",
      "5    Color awesomeScreen awesomeProcessing not at P...\n",
      "6    This phone is good and got it in very low pric...\n",
      "7    Overall very good mobile but camera quality is...\n",
      "Name: 1, dtype: object\n"
     ]
    }
   ],
   "source": [
    "df=pd.DataFrame(Finallist)\n",
    "print(df[1])"
   ]
  },
  {
   "cell_type": "markdown",
   "id": "42e97ed0",
   "metadata": {},
   "source": [
    "Performing sentimental analysis by predicting scores on reviews using Python Library named \"nltk\""
   ]
  },
  {
   "cell_type": "code",
   "execution_count": 44,
   "id": "a9cda83b",
   "metadata": {},
   "outputs": [],
   "source": [
    "def SentimentAnalysis(sentimenttext):\n",
    "    final=[]\n",
    "    for i in range(len(sentimenttext)):\n",
    "        list4=[]\n",
    "        list4.append(sentimenttext[i])\n",
    "        score=s.SentimentIntensityAnalyzer().polarity_scores(sentimenttext[i])\n",
    "        #score['pos'] gives the positive score of that review\n",
    "        pos=score['pos']\n",
    "        #score['neg'] gives the positive score of that review\n",
    "        neg=score['neg']\n",
    "        if(pos>neg):\n",
    "            list4.append(\"Positive Review\")\n",
    "        else:\n",
    "            list4.append(\"NegativeReview\")\n",
    "        final.append(list4)\n",
    "    df=pd.DataFrame(final)\n",
    "    return df\n",
    "    "
   ]
  },
  {
   "cell_type": "markdown",
   "id": "2bfc9508",
   "metadata": {},
   "source": [
    "Displaying the Review with its Analysis"
   ]
  },
  {
   "cell_type": "code",
   "execution_count": 45,
   "id": "004a06de",
   "metadata": {},
   "outputs": [
    {
     "data": {
      "text/html": [
       "<div>\n",
       "<style scoped>\n",
       "    .dataframe tbody tr th:only-of-type {\n",
       "        vertical-align: middle;\n",
       "    }\n",
       "\n",
       "    .dataframe tbody tr th {\n",
       "        vertical-align: top;\n",
       "    }\n",
       "\n",
       "    .dataframe thead th {\n",
       "        text-align: right;\n",
       "    }\n",
       "</style>\n",
       "<table border=\"1\" class=\"dataframe\">\n",
       "  <thead>\n",
       "    <tr style=\"text-align: right;\">\n",
       "      <th></th>\n",
       "      <th>0</th>\n",
       "      <th>1</th>\n",
       "    </tr>\n",
       "  </thead>\n",
       "  <tbody>\n",
       "    <tr>\n",
       "      <th>0</th>\n",
       "      <td>🔥 Heating issues during use with in 15 minutes...</td>\n",
       "      <td>Positive Review</td>\n",
       "    </tr>\n",
       "    <tr>\n",
       "      <th>1</th>\n",
       "      <td>At price of 8500 this is very goor phoneSoindc...</td>\n",
       "      <td>Positive Review</td>\n",
       "    </tr>\n",
       "    <tr>\n",
       "      <th>2</th>\n",
       "      <td>Charger lead is shortOne tiny point inside the...</td>\n",
       "      <td>NegativeReview</td>\n",
       "    </tr>\n",
       "    <tr>\n",
       "      <th>3</th>\n",
       "      <td>Camera not good, little slowRest at best price</td>\n",
       "      <td>Positive Review</td>\n",
       "    </tr>\n",
       "    <tr>\n",
       "      <th>4</th>\n",
       "      <td>best phone under 10,000/-</td>\n",
       "      <td>Positive Review</td>\n",
       "    </tr>\n",
       "    <tr>\n",
       "      <th>5</th>\n",
       "      <td>Color awesomeScreen awesomeProcessing not at P...</td>\n",
       "      <td>Positive Review</td>\n",
       "    </tr>\n",
       "    <tr>\n",
       "      <th>6</th>\n",
       "      <td>This phone is good and got it in very low pric...</td>\n",
       "      <td>Positive Review</td>\n",
       "    </tr>\n",
       "    <tr>\n",
       "      <th>7</th>\n",
       "      <td>Overall very good mobile but camera quality is...</td>\n",
       "      <td>Positive Review</td>\n",
       "    </tr>\n",
       "  </tbody>\n",
       "</table>\n",
       "</div>"
      ],
      "text/plain": [
       "                                                   0                1\n",
       "0  🔥 Heating issues during use with in 15 minutes...  Positive Review\n",
       "1  At price of 8500 this is very goor phoneSoindc...  Positive Review\n",
       "2  Charger lead is shortOne tiny point inside the...   NegativeReview\n",
       "3     Camera not good, little slowRest at best price  Positive Review\n",
       "4                          best phone under 10,000/-  Positive Review\n",
       "5  Color awesomeScreen awesomeProcessing not at P...  Positive Review\n",
       "6  This phone is good and got it in very low pric...  Positive Review\n",
       "7  Overall very good mobile but camera quality is...  Positive Review"
      ]
     },
     "execution_count": 45,
     "metadata": {},
     "output_type": "execute_result"
    }
   ],
   "source": [
    "SentimentAnalysis(list2)"
   ]
  },
  {
   "cell_type": "code",
   "execution_count": null,
   "id": "9277b6ab",
   "metadata": {},
   "outputs": [],
   "source": []
  },
  {
   "cell_type": "code",
   "execution_count": null,
   "id": "bfa3e9d1",
   "metadata": {},
   "outputs": [],
   "source": []
  }
 ],
 "metadata": {
  "kernelspec": {
   "display_name": "Python 3 (ipykernel)",
   "language": "python",
   "name": "python3"
  },
  "language_info": {
   "codemirror_mode": {
    "name": "ipython",
    "version": 3
   },
   "file_extension": ".py",
   "mimetype": "text/x-python",
   "name": "python",
   "nbconvert_exporter": "python",
   "pygments_lexer": "ipython3",
   "version": "3.11.0"
  }
 },
 "nbformat": 4,
 "nbformat_minor": 5
}
